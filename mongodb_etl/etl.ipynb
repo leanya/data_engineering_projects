{
 "cells": [
  {
   "cell_type": "code",
   "execution_count": 1,
   "metadata": {},
   "outputs": [],
   "source": [
    "import csv\n",
    "import glob\n",
    "import os\n",
    "\n",
    "import pandas as pd\n",
    "from pymongo import MongoClient"
   ]
  },
  {
   "cell_type": "code",
   "execution_count": 2,
   "metadata": {},
   "outputs": [],
   "source": [
    "def get_files(filepath):\n",
    "    all_files = []\n",
    "    for root, dirs, files in os.walk(filepath):\n",
    "        files = glob.glob(os.path.join(root,'*.csv'))\n",
    "        for f in files :\n",
    "            all_files.append(os.path.abspath(f))\n",
    "    \n",
    "    return all_files"
   ]
  },
  {
   "cell_type": "code",
   "execution_count": 3,
   "metadata": {},
   "outputs": [],
   "source": [
    "data_path = \"./data\"\n",
    "data_files = get_files(data_path)"
   ]
  },
  {
   "cell_type": "code",
   "execution_count": 4,
   "metadata": {},
   "outputs": [
    {
     "data": {
      "text/html": [
       "<div>\n",
       "<style scoped>\n",
       "    .dataframe tbody tr th:only-of-type {\n",
       "        vertical-align: middle;\n",
       "    }\n",
       "\n",
       "    .dataframe tbody tr th {\n",
       "        vertical-align: top;\n",
       "    }\n",
       "\n",
       "    .dataframe thead th {\n",
       "        text-align: right;\n",
       "    }\n",
       "</style>\n",
       "<table border=\"1\" class=\"dataframe\">\n",
       "  <thead>\n",
       "    <tr style=\"text-align: right;\">\n",
       "      <th></th>\n",
       "      <th>artist</th>\n",
       "      <th>firstName</th>\n",
       "      <th>gender</th>\n",
       "      <th>itemInSession</th>\n",
       "      <th>lastName</th>\n",
       "      <th>length</th>\n",
       "      <th>level</th>\n",
       "      <th>location</th>\n",
       "      <th>sessionId</th>\n",
       "      <th>song</th>\n",
       "      <th>userId</th>\n",
       "    </tr>\n",
       "  </thead>\n",
       "  <tbody>\n",
       "    <tr>\n",
       "      <th>0</th>\n",
       "      <td>NaN</td>\n",
       "      <td>Walter</td>\n",
       "      <td>M</td>\n",
       "      <td>0</td>\n",
       "      <td>Frye</td>\n",
       "      <td>NaN</td>\n",
       "      <td>free</td>\n",
       "      <td>San Francisco-Oakland-Hayward, CA</td>\n",
       "      <td>38</td>\n",
       "      <td>NaN</td>\n",
       "      <td>39</td>\n",
       "    </tr>\n",
       "    <tr>\n",
       "      <th>1</th>\n",
       "      <td>NaN</td>\n",
       "      <td>Kaylee</td>\n",
       "      <td>F</td>\n",
       "      <td>0</td>\n",
       "      <td>Summers</td>\n",
       "      <td>NaN</td>\n",
       "      <td>free</td>\n",
       "      <td>Phoenix-Mesa-Scottsdale, AZ</td>\n",
       "      <td>139</td>\n",
       "      <td>NaN</td>\n",
       "      <td>8</td>\n",
       "    </tr>\n",
       "    <tr>\n",
       "      <th>2</th>\n",
       "      <td>Des'ree</td>\n",
       "      <td>Kaylee</td>\n",
       "      <td>F</td>\n",
       "      <td>1</td>\n",
       "      <td>Summers</td>\n",
       "      <td>246.30812</td>\n",
       "      <td>free</td>\n",
       "      <td>Phoenix-Mesa-Scottsdale, AZ</td>\n",
       "      <td>139</td>\n",
       "      <td>You Gotta Be</td>\n",
       "      <td>8</td>\n",
       "    </tr>\n",
       "    <tr>\n",
       "      <th>3</th>\n",
       "      <td>NaN</td>\n",
       "      <td>Kaylee</td>\n",
       "      <td>F</td>\n",
       "      <td>2</td>\n",
       "      <td>Summers</td>\n",
       "      <td>NaN</td>\n",
       "      <td>free</td>\n",
       "      <td>Phoenix-Mesa-Scottsdale, AZ</td>\n",
       "      <td>139</td>\n",
       "      <td>NaN</td>\n",
       "      <td>8</td>\n",
       "    </tr>\n",
       "    <tr>\n",
       "      <th>4</th>\n",
       "      <td>Mr Oizo</td>\n",
       "      <td>Kaylee</td>\n",
       "      <td>F</td>\n",
       "      <td>3</td>\n",
       "      <td>Summers</td>\n",
       "      <td>144.03873</td>\n",
       "      <td>free</td>\n",
       "      <td>Phoenix-Mesa-Scottsdale, AZ</td>\n",
       "      <td>139</td>\n",
       "      <td>Flat 55</td>\n",
       "      <td>8</td>\n",
       "    </tr>\n",
       "  </tbody>\n",
       "</table>\n",
       "</div>"
      ],
      "text/plain": [
       "    artist firstName gender  itemInSession lastName     length level  \\\n",
       "0      NaN    Walter      M              0     Frye        NaN  free   \n",
       "1      NaN    Kaylee      F              0  Summers        NaN  free   \n",
       "2  Des'ree    Kaylee      F              1  Summers  246.30812  free   \n",
       "3      NaN    Kaylee      F              2  Summers        NaN  free   \n",
       "4  Mr Oizo    Kaylee      F              3  Summers  144.03873  free   \n",
       "\n",
       "                            location  sessionId          song  userId  \n",
       "0  San Francisco-Oakland-Hayward, CA         38           NaN      39  \n",
       "1        Phoenix-Mesa-Scottsdale, AZ        139           NaN       8  \n",
       "2        Phoenix-Mesa-Scottsdale, AZ        139  You Gotta Be       8  \n",
       "3        Phoenix-Mesa-Scottsdale, AZ        139           NaN       8  \n",
       "4        Phoenix-Mesa-Scottsdale, AZ        139       Flat 55       8  "
      ]
     },
     "execution_count": 4,
     "metadata": {},
     "output_type": "execute_result"
    }
   ],
   "source": [
    "df = pd.read_csv(data_files[0])\n",
    "final_columns = ['artist', 'firstName', 'gender', \n",
    "                    'itemInSession', 'lastName', 'length', \n",
    "                    'level' , 'location', 'sessionId', 'song', 'userId']\n",
    "df[final_columns].head()"
   ]
  },
  {
   "cell_type": "code",
   "execution_count": 5,
   "metadata": {},
   "outputs": [],
   "source": [
    "def connect_mongo():\n",
    "    client = MongoClient(\"mongodb://localhost:27017\")\n",
    "    db_name = \"sparkify_db\"\n",
    "\n",
    "    # drop database if it exists\n",
    "    dbnames = client.list_database_names()\n",
    "    if db_name in dbnames: \n",
    "        client.drop_database(db_name)\n",
    "        \n",
    "    # create a database \n",
    "    database = client[db_name]\n",
    "\n",
    "    # create new collections\n",
    "    collection1 = database[\"table1\"]\n",
    "    collection2 = database[\"table2\"]\n",
    "    collection3 = database[\"table3\"]\n",
    "    \n",
    "    return client, database, collection1, collection2, collection3\n"
   ]
  },
  {
   "cell_type": "code",
   "execution_count": 6,
   "metadata": {},
   "outputs": [],
   "source": [
    "def load_dataset_mongodb(datafiles, collection, header):\n",
    "    \n",
    "    for data_file in datafiles: \n",
    "        with open(data_file) as f: \n",
    "            reader = csv.DictReader(f)\n",
    "\n",
    "            for line in reader: \n",
    "                row = {}\n",
    "                # select the columns \n",
    "                for field in header: \n",
    "                    row[field] = line[field]\n",
    "                # insert the row into the collection \n",
    "                collection.insert_one(row)"
   ]
  },
  {
   "cell_type": "code",
   "execution_count": 7,
   "metadata": {},
   "outputs": [],
   "source": [
    "def setup_database_mongodb():\n",
    "    data_path = \"./data\"\n",
    "    data_files = get_files(data_path)\n",
    "\n",
    "    client, db, collection1, collection2, collection3 = connect_mongo()\n",
    "\n",
    "    header1 = ['artist', 'song', 'length', 'sessionId', 'itemInSession']\n",
    "    header2 = ['artist', 'song', 'firstName', 'lastName', 'userId', 'sessionId', 'itemInSession']\n",
    "    header3 = ['firstName', 'lastName', 'song']\n",
    "    load_dataset_mongodb(data_files, collection1, header1)\n",
    "    load_dataset_mongodb(data_files, collection2, header2)\n",
    "    load_dataset_mongodb(data_files, collection3, header3)\n",
    "\n",
    "    return client, db, collection1, collection2, collection3"
   ]
  },
  {
   "cell_type": "code",
   "execution_count": 8,
   "metadata": {},
   "outputs": [],
   "source": [
    "client, db, collection1, collection2, collection3 = setup_database_mongodb()"
   ]
  },
  {
   "attachments": {},
   "cell_type": "markdown",
   "metadata": {},
   "source": [
    "Perform the query in MongoDB using Python"
   ]
  },
  {
   "attachments": {},
   "cell_type": "markdown",
   "metadata": {},
   "source": [
    "1. Give the artist, song title and song's length in the music app history that was heard during sessionId = 338, and itemInSession = 4\n",
    "2. Give only the following: name of artist, song (sorted by itemInSession) and user (first and last name) for userid = 10, sessionid = 182\n",
    "3. Give every user name (first and last) in my music app history who listened to the song 'All Hands Against His Own'\n"
   ]
  },
  {
   "cell_type": "code",
   "execution_count": 9,
   "metadata": {},
   "outputs": [
    {
     "name": "stdout",
     "output_type": "stream",
     "text": [
      "{'artist': 'Faithless', 'song': 'Music Matters (Mark Knight Dub)', 'length': '495.3073'}\n"
     ]
    }
   ],
   "source": [
    "col1 = {'_id':0, 'artist': 1, 'song': 1, 'length':1 }\n",
    "q1 = collection1.find({'sessionId':'338', 'itemInSession':'4'}, col1 )\n",
    "for x in q1:\n",
    "    print(x)"
   ]
  },
  {
   "cell_type": "code",
   "execution_count": 10,
   "metadata": {},
   "outputs": [
    {
     "name": "stdout",
     "output_type": "stream",
     "text": [
      "{'artist': 'Down To The Bone', 'song': \"Keep On Keepin' On\", 'firstName': 'Sylvie', 'lastName': 'Cruz'}\n",
      "{'artist': 'Three Drives', 'song': 'Greece 2000', 'firstName': 'Sylvie', 'lastName': 'Cruz'}\n",
      "{'artist': 'Sebastien Tellier', 'song': 'Kilometer', 'firstName': 'Sylvie', 'lastName': 'Cruz'}\n",
      "{'artist': 'Lonnie Gordon', 'song': 'Catch You Baby (Steve Pitron & Max Sanna Radio Edit)', 'firstName': 'Sylvie', 'lastName': 'Cruz'}\n"
     ]
    }
   ],
   "source": [
    "col2 = {'_id':0, 'artist':1, 'song':1, 'firstName':1, 'lastName':1}\n",
    "q2 = collection2.find({'userId':'10', 'sessionId':'182'}, col2).sort('itemInSession')\n",
    "for x in q2:\n",
    "    print(x)"
   ]
  },
  {
   "cell_type": "code",
   "execution_count": 11,
   "metadata": {},
   "outputs": [
    {
     "name": "stdout",
     "output_type": "stream",
     "text": [
      "{'firstName': 'Sara', 'lastName': 'Johnson'}\n",
      "{'firstName': 'Jacqueline', 'lastName': 'Lynch'}\n",
      "{'firstName': 'Tegan', 'lastName': 'Levine'}\n"
     ]
    }
   ],
   "source": [
    "col3 = {'_id':0, 'firstName':1, 'lastName':1}\n",
    "q3 = collection3.find({'song':'All Hands Against His Own'}, col3)\n",
    "for x in q3:\n",
    "    print(x)"
   ]
  },
  {
   "cell_type": "code",
   "execution_count": 12,
   "metadata": {},
   "outputs": [],
   "source": [
    "client.close()"
   ]
  },
  {
   "cell_type": "code",
   "execution_count": null,
   "metadata": {},
   "outputs": [],
   "source": []
  }
 ],
 "metadata": {
  "kernelspec": {
   "display_name": "project2",
   "language": "python",
   "name": "python3"
  },
  "language_info": {
   "codemirror_mode": {
    "name": "ipython",
    "version": 3
   },
   "file_extension": ".py",
   "mimetype": "text/x-python",
   "name": "python",
   "nbconvert_exporter": "python",
   "pygments_lexer": "ipython3",
   "version": "3.10.9"
  },
  "orig_nbformat": 4
 },
 "nbformat": 4,
 "nbformat_minor": 2
}
